{
 "cells": [
  {
   "cell_type": "code",
   "execution_count": 1,
   "metadata": {
    "ExecuteTime": {
     "end_time": "2020-10-27T17:04:11.075644Z",
     "start_time": "2020-10-27T17:04:11.052405Z"
    }
   },
   "outputs": [],
   "source": [
    "%load_ext autoreload\n",
    "%autoreload 2"
   ]
  },
  {
   "cell_type": "code",
   "execution_count": 2,
   "metadata": {
    "ExecuteTime": {
     "end_time": "2020-10-27T17:04:11.274923Z",
     "start_time": "2020-10-27T17:04:11.255182Z"
    }
   },
   "outputs": [],
   "source": [
    "import sys\n",
    "sys.path.append('..')"
   ]
  },
  {
   "cell_type": "code",
   "execution_count": 3,
   "metadata": {
    "ExecuteTime": {
     "end_time": "2020-10-27T17:04:12.804052Z",
     "start_time": "2020-10-27T17:04:11.524050Z"
    }
   },
   "outputs": [],
   "source": [
    "from polimorfo.datasets import CocoDataset\n",
    "from polimorfo.utils import maskutils\n",
    "from tqdm import tqdm\n",
    "import pandas as pd\n",
    "import numpy as np"
   ]
  },
  {
   "cell_type": "code",
   "execution_count": 4,
   "metadata": {
    "ExecuteTime": {
     "end_time": "2020-10-27T17:04:12.833092Z",
     "start_time": "2020-10-27T17:04:12.806242Z"
    }
   },
   "outputs": [],
   "source": [
    "ds_path = '../../car-models/datasets/scratches/val_scratches.json'"
   ]
  },
  {
   "cell_type": "code",
   "execution_count": 23,
   "metadata": {
    "ExecuteTime": {
     "end_time": "2020-10-27T17:05:14.051070Z",
     "start_time": "2020-10-27T17:05:13.960475Z"
    },
    "scrolled": true
   },
   "outputs": [
    {
     "name": "stderr",
     "output_type": "stream",
     "text": [
      "load categories: 100%|██████████| 1/1 [00:00<00:00, 2432.89it/s]\n",
      "load images: 100%|██████████| 998/998 [00:00<00:00, 588819.16it/s]\n",
      "load annotations: 100%|██████████| 657/657 [00:00<00:00, 571239.16it/s]\n",
      "reindex images: 998it [00:00, 768904.37it/s]\n",
      "reindex annotations: 657it [00:00, 593508.02it/s]\n",
      "load categories: 100%|██████████| 1/1 [00:00<00:00, 3923.58it/s]\n",
      "load images: 100%|██████████| 998/998 [00:00<00:00, 695912.78it/s]\n",
      "load annotations: 100%|██████████| 657/657 [00:00<00:00, 774931.87it/s]\n",
      "reindex images: 998it [00:00, 478171.74it/s]\n",
      "reindex annotations: 657it [00:00, 413886.71it/s]\n"
     ]
    }
   ],
   "source": [
    "gt_ds = CocoDataset(ds_path)\n",
    "gt_ds.reindex()\n",
    "pred_ds = CocoDataset(ds_path)\n",
    "pred_ds.reindex()"
   ]
  },
  {
   "cell_type": "code",
   "execution_count": 24,
   "metadata": {
    "ExecuteTime": {
     "end_time": "2020-10-27T17:05:14.250555Z",
     "start_time": "2020-10-27T17:05:14.194980Z"
    }
   },
   "outputs": [
    {
     "name": "stderr",
     "output_type": "stream",
     "text": [
      "reindex images: 998it [00:00, 630884.01it/s]\n",
      "reindex annotations: 656it [00:00, 682575.89it/s]\n",
      "reindex images: 998it [00:00, 300410.18it/s]\n",
      "reindex annotations: 656it [00:00, 532506.95it/s]\n"
     ]
    }
   ],
   "source": [
    "gt_ds.remove_annotations([1])\n",
    "gt_ds.reindex()"
   ]
  },
  {
   "cell_type": "code",
   "execution_count": 52,
   "metadata": {
    "ExecuteTime": {
     "end_time": "2020-10-28T10:23:59.340769Z",
     "start_time": "2020-10-28T10:23:59.314304Z"
    }
   },
   "outputs": [],
   "source": [
    "header = [\n",
    "        'img_path', 'gt_ann_id', 'pred_ann_id', 'true_class_id',\n",
    "        'pred_class_id', 'intersection', 'union', 'IOU', 'score'\n",
    "    ]"
   ]
  },
  {
   "cell_type": "code",
   "execution_count": 53,
   "metadata": {
    "ExecuteTime": {
     "end_time": "2020-10-28T10:24:03.731255Z",
     "start_time": "2020-10-28T10:24:03.702282Z"
    }
   },
   "outputs": [],
   "source": [
    "def best_match(pred_anns, gt_ann_id, gt_mask, img_path, gt_class_id):\n",
    "    best_pred_ann_id = -1\n",
    "    best_iou = 0\n",
    "    best_values = [img_path, gt_ann_id, -1, gt_class_id, 0, 0, 0, 0, 0]\n",
    "    for pred_ann in pred_anns:\n",
    "        pred_mask = maskutils.polygons_to_mask(pred_ann['segmentation'], \n",
    "                                         gt_img_meta['height'],\n",
    "                                        gt_img_meta['width'])\n",
    "        pred_ann_id = pred_ann['id']\n",
    "        pred_class_id = pred_ann['category_id']\n",
    "        pred_score = pred_ann['score'] if 'score' in pred_ann else 1\n",
    "\n",
    "        intersection = (pred_mask * gt_mask).sum()\n",
    "        union = np.count_nonzero(pred_mask + gt_mask)\n",
    "        iou = intersection / union\n",
    "        \n",
    "        if iou > best_iou:\n",
    "            best_values = [img_path, gt_ann_id, pred_ann_id, gt_class_id,\n",
    "                           pred_class_id, intersection, union, iou, pred_score]\n",
    "            best_pred_ann_id = pred_ann_id\n",
    "            best_iou = iou\n",
    "    return best_pred_ann_id, best_values"
   ]
  },
  {
   "cell_type": "code",
   "execution_count": 54,
   "metadata": {
    "ExecuteTime": {
     "end_time": "2020-10-28T10:24:05.902076Z",
     "start_time": "2020-10-28T10:24:04.206341Z"
    },
    "scrolled": true
   },
   "outputs": [
    {
     "name": "stderr",
     "output_type": "stream",
     "text": [
      "100%|██████████| 998/998 [00:01<00:00, 600.94it/s]\n"
     ]
    }
   ],
   "source": [
    "results = []\n",
    "\n",
    "for img_idx, gt_img_meta in tqdm(gt_ds.imgs.items()):\n",
    "    gt_anns = gt_ds.get_annotations(img_idx)\n",
    "    pred_img_meta = pred_ds.imgs[img_idx]\n",
    "    \n",
    "    if gt_img_meta['file_name'] != pred_img_meta['file_name']:\n",
    "        raise Exception(\"images path compared are different\")\n",
    "        \n",
    "    img_path = gt_img_meta['file_name']\n",
    "        \n",
    "    pred_anns = pred_ds.get_annotations(img_idx)\n",
    "    \n",
    "    # create a set with all the prediction that will be used to find FP\n",
    "    pred_idx_dict = {ann['id']: ann for ann in pred_anns}\n",
    "    \n",
    "    for gt_ann in gt_anns:\n",
    "        gt_mask = maskutils.polygons_to_mask(gt_ann['segmentation'], \n",
    "                                             gt_img_meta['height'],\n",
    "                                            gt_img_meta['width'])\n",
    "        gt_ann_id = gt_ann['id']\n",
    "        gt_class_id = gt_ann['category_id']\n",
    "        \n",
    "        pred_ann_id, row = best_match(pred_anns, gt_ann_id, gt_mask, img_path, gt_class_id)\n",
    "        results.append(row)\n",
    "        if pred_ann_id in pred_idx_dict:\n",
    "            del pred_idx_dict[pred_ann_id]\n",
    "            pred_anns = pred_idx_dict.values()\n",
    "                \n",
    "    # false positive dict    \n",
    "    for pred_ann_id, pred_ann in pred_idx_dict.items():\n",
    "        results.append([img_path, -1, pred_ann_id, 0,\n",
    "                               pred_ann['category_id'], 0, 0, 0, 0])\n",
    "    "
   ]
  },
  {
   "cell_type": "code",
   "execution_count": 55,
   "metadata": {
    "ExecuteTime": {
     "end_time": "2020-10-28T10:24:06.672763Z",
     "start_time": "2020-10-28T10:24:06.645080Z"
    }
   },
   "outputs": [],
   "source": [
    "df = pd.DataFrame(results, columns=header)"
   ]
  },
  {
   "cell_type": "code",
   "execution_count": 56,
   "metadata": {
    "ExecuteTime": {
     "end_time": "2020-10-28T10:24:07.068917Z",
     "start_time": "2020-10-28T10:24:07.029775Z"
    }
   },
   "outputs": [
    {
     "data": {
      "text/html": [
       "<div>\n",
       "<style scoped>\n",
       "    .dataframe tbody tr th:only-of-type {\n",
       "        vertical-align: middle;\n",
       "    }\n",
       "\n",
       "    .dataframe tbody tr th {\n",
       "        vertical-align: top;\n",
       "    }\n",
       "\n",
       "    .dataframe thead th {\n",
       "        text-align: right;\n",
       "    }\n",
       "</style>\n",
       "<table border=\"1\" class=\"dataframe\">\n",
       "  <thead>\n",
       "    <tr style=\"text-align: right;\">\n",
       "      <th></th>\n",
       "      <th>img_path</th>\n",
       "      <th>gt_ann_id</th>\n",
       "      <th>pred_ann_id</th>\n",
       "      <th>true_class_id</th>\n",
       "      <th>pred_class_id</th>\n",
       "      <th>intersection</th>\n",
       "      <th>union</th>\n",
       "      <th>IOU</th>\n",
       "      <th>score</th>\n",
       "    </tr>\n",
       "  </thead>\n",
       "  <tbody>\n",
       "    <tr>\n",
       "      <th>0</th>\n",
       "      <td>batch6__2017010400696400__foto0004.jpg</td>\n",
       "      <td>0</td>\n",
       "      <td>0</td>\n",
       "      <td>1</td>\n",
       "      <td>1</td>\n",
       "      <td>968</td>\n",
       "      <td>968</td>\n",
       "      <td>1.0</td>\n",
       "      <td>1</td>\n",
       "    </tr>\n",
       "    <tr>\n",
       "      <th>1</th>\n",
       "      <td>batch6__2017010400696400__foto0004.jpg</td>\n",
       "      <td>-1</td>\n",
       "      <td>1</td>\n",
       "      <td>0</td>\n",
       "      <td>1</td>\n",
       "      <td>0</td>\n",
       "      <td>0</td>\n",
       "      <td>0.0</td>\n",
       "      <td>0</td>\n",
       "    </tr>\n",
       "    <tr>\n",
       "      <th>2</th>\n",
       "      <td>batch6__2017010400054500__foto0005.jpg</td>\n",
       "      <td>1</td>\n",
       "      <td>2</td>\n",
       "      <td>1</td>\n",
       "      <td>1</td>\n",
       "      <td>14315</td>\n",
       "      <td>14315</td>\n",
       "      <td>1.0</td>\n",
       "      <td>1</td>\n",
       "    </tr>\n",
       "    <tr>\n",
       "      <th>3</th>\n",
       "      <td>batch6__2017010400885200__foto0001.jpg</td>\n",
       "      <td>2</td>\n",
       "      <td>3</td>\n",
       "      <td>1</td>\n",
       "      <td>1</td>\n",
       "      <td>110</td>\n",
       "      <td>110</td>\n",
       "      <td>1.0</td>\n",
       "      <td>1</td>\n",
       "    </tr>\n",
       "    <tr>\n",
       "      <th>4</th>\n",
       "      <td>batch6__2017010400193000__foto0011.jpg</td>\n",
       "      <td>3</td>\n",
       "      <td>4</td>\n",
       "      <td>1</td>\n",
       "      <td>1</td>\n",
       "      <td>8267</td>\n",
       "      <td>8267</td>\n",
       "      <td>1.0</td>\n",
       "      <td>1</td>\n",
       "    </tr>\n",
       "    <tr>\n",
       "      <th>...</th>\n",
       "      <td>...</td>\n",
       "      <td>...</td>\n",
       "      <td>...</td>\n",
       "      <td>...</td>\n",
       "      <td>...</td>\n",
       "      <td>...</td>\n",
       "      <td>...</td>\n",
       "      <td>...</td>\n",
       "      <td>...</td>\n",
       "    </tr>\n",
       "    <tr>\n",
       "      <th>652</th>\n",
       "      <td>batch6__2017010400901900__foto0004.jpg</td>\n",
       "      <td>651</td>\n",
       "      <td>652</td>\n",
       "      <td>1</td>\n",
       "      <td>1</td>\n",
       "      <td>2252</td>\n",
       "      <td>2252</td>\n",
       "      <td>1.0</td>\n",
       "      <td>1</td>\n",
       "    </tr>\n",
       "    <tr>\n",
       "      <th>653</th>\n",
       "      <td>batch6__2017010400901900__foto0004.jpg</td>\n",
       "      <td>652</td>\n",
       "      <td>653</td>\n",
       "      <td>1</td>\n",
       "      <td>1</td>\n",
       "      <td>4109</td>\n",
       "      <td>4109</td>\n",
       "      <td>1.0</td>\n",
       "      <td>1</td>\n",
       "    </tr>\n",
       "    <tr>\n",
       "      <th>654</th>\n",
       "      <td>batch6__2017010400901900__foto0004.jpg</td>\n",
       "      <td>653</td>\n",
       "      <td>654</td>\n",
       "      <td>1</td>\n",
       "      <td>1</td>\n",
       "      <td>2657</td>\n",
       "      <td>2657</td>\n",
       "      <td>1.0</td>\n",
       "      <td>1</td>\n",
       "    </tr>\n",
       "    <tr>\n",
       "      <th>655</th>\n",
       "      <td>batch6__2017010400901900__foto0004.jpg</td>\n",
       "      <td>654</td>\n",
       "      <td>655</td>\n",
       "      <td>1</td>\n",
       "      <td>1</td>\n",
       "      <td>2488</td>\n",
       "      <td>2488</td>\n",
       "      <td>1.0</td>\n",
       "      <td>1</td>\n",
       "    </tr>\n",
       "    <tr>\n",
       "      <th>656</th>\n",
       "      <td>batch6__2017010400616100__foto006.jpg</td>\n",
       "      <td>655</td>\n",
       "      <td>656</td>\n",
       "      <td>1</td>\n",
       "      <td>1</td>\n",
       "      <td>75990</td>\n",
       "      <td>75990</td>\n",
       "      <td>1.0</td>\n",
       "      <td>1</td>\n",
       "    </tr>\n",
       "  </tbody>\n",
       "</table>\n",
       "<p>657 rows × 9 columns</p>\n",
       "</div>"
      ],
      "text/plain": [
       "                                   img_path  gt_ann_id  pred_ann_id  \\\n",
       "0    batch6__2017010400696400__foto0004.jpg          0            0   \n",
       "1    batch6__2017010400696400__foto0004.jpg         -1            1   \n",
       "2    batch6__2017010400054500__foto0005.jpg          1            2   \n",
       "3    batch6__2017010400885200__foto0001.jpg          2            3   \n",
       "4    batch6__2017010400193000__foto0011.jpg          3            4   \n",
       "..                                      ...        ...          ...   \n",
       "652  batch6__2017010400901900__foto0004.jpg        651          652   \n",
       "653  batch6__2017010400901900__foto0004.jpg        652          653   \n",
       "654  batch6__2017010400901900__foto0004.jpg        653          654   \n",
       "655  batch6__2017010400901900__foto0004.jpg        654          655   \n",
       "656   batch6__2017010400616100__foto006.jpg        655          656   \n",
       "\n",
       "     true_class_id  pred_class_id  intersection  union  IOU  score  \n",
       "0                1              1           968    968  1.0      1  \n",
       "1                0              1             0      0  0.0      0  \n",
       "2                1              1         14315  14315  1.0      1  \n",
       "3                1              1           110    110  1.0      1  \n",
       "4                1              1          8267   8267  1.0      1  \n",
       "..             ...            ...           ...    ...  ...    ...  \n",
       "652              1              1          2252   2252  1.0      1  \n",
       "653              1              1          4109   4109  1.0      1  \n",
       "654              1              1          2657   2657  1.0      1  \n",
       "655              1              1          2488   2488  1.0      1  \n",
       "656              1              1         75990  75990  1.0      1  \n",
       "\n",
       "[657 rows x 9 columns]"
      ]
     },
     "execution_count": 56,
     "metadata": {},
     "output_type": "execute_result"
    }
   ],
   "source": [
    "df"
   ]
  },
  {
   "cell_type": "code",
   "execution_count": 30,
   "metadata": {
    "ExecuteTime": {
     "end_time": "2020-10-27T17:05:17.014650Z",
     "start_time": "2020-10-27T17:05:16.985051Z"
    }
   },
   "outputs": [
    {
     "data": {
      "text/plain": [
       "0.9984779299847792"
      ]
     },
     "execution_count": 30,
     "metadata": {},
     "output_type": "execute_result"
    }
   ],
   "source": [
    "df['IOU'].mean()"
   ]
  },
  {
   "cell_type": "code",
   "execution_count": 65,
   "metadata": {
    "ExecuteTime": {
     "end_time": "2020-10-28T10:27:35.438089Z",
     "start_time": "2020-10-28T10:27:35.408086Z"
    }
   },
   "outputs": [],
   "source": [
    "class_idxs = sorted(df['true_class_id'].unique())[1:]\n",
    "for class_idx in class_idxs:\n",
    "    df_class = df[(df['true_class_id'] == class_idx) | (df['pred_class_id'] == class_idx)]\n",
    "    "
   ]
  },
  {
   "cell_type": "code",
   "execution_count": 66,
   "metadata": {
    "ExecuteTime": {
     "end_time": "2020-10-28T10:27:39.702707Z",
     "start_time": "2020-10-28T10:27:39.662763Z"
    }
   },
   "outputs": [
    {
     "data": {
      "text/html": [
       "<div>\n",
       "<style scoped>\n",
       "    .dataframe tbody tr th:only-of-type {\n",
       "        vertical-align: middle;\n",
       "    }\n",
       "\n",
       "    .dataframe tbody tr th {\n",
       "        vertical-align: top;\n",
       "    }\n",
       "\n",
       "    .dataframe thead th {\n",
       "        text-align: right;\n",
       "    }\n",
       "</style>\n",
       "<table border=\"1\" class=\"dataframe\">\n",
       "  <thead>\n",
       "    <tr style=\"text-align: right;\">\n",
       "      <th></th>\n",
       "      <th>img_path</th>\n",
       "      <th>gt_ann_id</th>\n",
       "      <th>pred_ann_id</th>\n",
       "      <th>true_class_id</th>\n",
       "      <th>pred_class_id</th>\n",
       "      <th>intersection</th>\n",
       "      <th>union</th>\n",
       "      <th>IOU</th>\n",
       "      <th>score</th>\n",
       "    </tr>\n",
       "  </thead>\n",
       "  <tbody>\n",
       "    <tr>\n",
       "      <th>0</th>\n",
       "      <td>batch6__2017010400696400__foto0004.jpg</td>\n",
       "      <td>0</td>\n",
       "      <td>0</td>\n",
       "      <td>1</td>\n",
       "      <td>1</td>\n",
       "      <td>968</td>\n",
       "      <td>968</td>\n",
       "      <td>1.0</td>\n",
       "      <td>1</td>\n",
       "    </tr>\n",
       "    <tr>\n",
       "      <th>1</th>\n",
       "      <td>batch6__2017010400696400__foto0004.jpg</td>\n",
       "      <td>-1</td>\n",
       "      <td>1</td>\n",
       "      <td>0</td>\n",
       "      <td>1</td>\n",
       "      <td>0</td>\n",
       "      <td>0</td>\n",
       "      <td>0.0</td>\n",
       "      <td>0</td>\n",
       "    </tr>\n",
       "    <tr>\n",
       "      <th>2</th>\n",
       "      <td>batch6__2017010400054500__foto0005.jpg</td>\n",
       "      <td>1</td>\n",
       "      <td>2</td>\n",
       "      <td>1</td>\n",
       "      <td>1</td>\n",
       "      <td>14315</td>\n",
       "      <td>14315</td>\n",
       "      <td>1.0</td>\n",
       "      <td>1</td>\n",
       "    </tr>\n",
       "    <tr>\n",
       "      <th>3</th>\n",
       "      <td>batch6__2017010400885200__foto0001.jpg</td>\n",
       "      <td>2</td>\n",
       "      <td>3</td>\n",
       "      <td>1</td>\n",
       "      <td>1</td>\n",
       "      <td>110</td>\n",
       "      <td>110</td>\n",
       "      <td>1.0</td>\n",
       "      <td>1</td>\n",
       "    </tr>\n",
       "    <tr>\n",
       "      <th>4</th>\n",
       "      <td>batch6__2017010400193000__foto0011.jpg</td>\n",
       "      <td>3</td>\n",
       "      <td>4</td>\n",
       "      <td>1</td>\n",
       "      <td>1</td>\n",
       "      <td>8267</td>\n",
       "      <td>8267</td>\n",
       "      <td>1.0</td>\n",
       "      <td>1</td>\n",
       "    </tr>\n",
       "    <tr>\n",
       "      <th>...</th>\n",
       "      <td>...</td>\n",
       "      <td>...</td>\n",
       "      <td>...</td>\n",
       "      <td>...</td>\n",
       "      <td>...</td>\n",
       "      <td>...</td>\n",
       "      <td>...</td>\n",
       "      <td>...</td>\n",
       "      <td>...</td>\n",
       "    </tr>\n",
       "    <tr>\n",
       "      <th>652</th>\n",
       "      <td>batch6__2017010400901900__foto0004.jpg</td>\n",
       "      <td>651</td>\n",
       "      <td>652</td>\n",
       "      <td>1</td>\n",
       "      <td>1</td>\n",
       "      <td>2252</td>\n",
       "      <td>2252</td>\n",
       "      <td>1.0</td>\n",
       "      <td>1</td>\n",
       "    </tr>\n",
       "    <tr>\n",
       "      <th>653</th>\n",
       "      <td>batch6__2017010400901900__foto0004.jpg</td>\n",
       "      <td>652</td>\n",
       "      <td>653</td>\n",
       "      <td>1</td>\n",
       "      <td>1</td>\n",
       "      <td>4109</td>\n",
       "      <td>4109</td>\n",
       "      <td>1.0</td>\n",
       "      <td>1</td>\n",
       "    </tr>\n",
       "    <tr>\n",
       "      <th>654</th>\n",
       "      <td>batch6__2017010400901900__foto0004.jpg</td>\n",
       "      <td>653</td>\n",
       "      <td>654</td>\n",
       "      <td>1</td>\n",
       "      <td>1</td>\n",
       "      <td>2657</td>\n",
       "      <td>2657</td>\n",
       "      <td>1.0</td>\n",
       "      <td>1</td>\n",
       "    </tr>\n",
       "    <tr>\n",
       "      <th>655</th>\n",
       "      <td>batch6__2017010400901900__foto0004.jpg</td>\n",
       "      <td>654</td>\n",
       "      <td>655</td>\n",
       "      <td>1</td>\n",
       "      <td>1</td>\n",
       "      <td>2488</td>\n",
       "      <td>2488</td>\n",
       "      <td>1.0</td>\n",
       "      <td>1</td>\n",
       "    </tr>\n",
       "    <tr>\n",
       "      <th>656</th>\n",
       "      <td>batch6__2017010400616100__foto006.jpg</td>\n",
       "      <td>655</td>\n",
       "      <td>656</td>\n",
       "      <td>1</td>\n",
       "      <td>1</td>\n",
       "      <td>75990</td>\n",
       "      <td>75990</td>\n",
       "      <td>1.0</td>\n",
       "      <td>1</td>\n",
       "    </tr>\n",
       "  </tbody>\n",
       "</table>\n",
       "<p>657 rows × 9 columns</p>\n",
       "</div>"
      ],
      "text/plain": [
       "                                   img_path  gt_ann_id  pred_ann_id  \\\n",
       "0    batch6__2017010400696400__foto0004.jpg          0            0   \n",
       "1    batch6__2017010400696400__foto0004.jpg         -1            1   \n",
       "2    batch6__2017010400054500__foto0005.jpg          1            2   \n",
       "3    batch6__2017010400885200__foto0001.jpg          2            3   \n",
       "4    batch6__2017010400193000__foto0011.jpg          3            4   \n",
       "..                                      ...        ...          ...   \n",
       "652  batch6__2017010400901900__foto0004.jpg        651          652   \n",
       "653  batch6__2017010400901900__foto0004.jpg        652          653   \n",
       "654  batch6__2017010400901900__foto0004.jpg        653          654   \n",
       "655  batch6__2017010400901900__foto0004.jpg        654          655   \n",
       "656   batch6__2017010400616100__foto006.jpg        655          656   \n",
       "\n",
       "     true_class_id  pred_class_id  intersection  union  IOU  score  \n",
       "0                1              1           968    968  1.0      1  \n",
       "1                0              1             0      0  0.0      0  \n",
       "2                1              1         14315  14315  1.0      1  \n",
       "3                1              1           110    110  1.0      1  \n",
       "4                1              1          8267   8267  1.0      1  \n",
       "..             ...            ...           ...    ...  ...    ...  \n",
       "652              1              1          2252   2252  1.0      1  \n",
       "653              1              1          4109   4109  1.0      1  \n",
       "654              1              1          2657   2657  1.0      1  \n",
       "655              1              1          2488   2488  1.0      1  \n",
       "656              1              1         75990  75990  1.0      1  \n",
       "\n",
       "[657 rows x 9 columns]"
      ]
     },
     "execution_count": 66,
     "metadata": {},
     "output_type": "execute_result"
    }
   ],
   "source": [
    "df_class"
   ]
  },
  {
   "cell_type": "code",
   "execution_count": 40,
   "metadata": {
    "ExecuteTime": {
     "end_time": "2020-10-28T09:30:24.225411Z",
     "start_time": "2020-10-28T09:30:24.190113Z"
    }
   },
   "outputs": [],
   "source": [
    "at_iou = 0.5"
   ]
  },
  {
   "cell_type": "code",
   "execution_count": 57,
   "metadata": {
    "ExecuteTime": {
     "end_time": "2020-10-28T10:25:14.578857Z",
     "start_time": "2020-10-28T10:25:14.548725Z"
    }
   },
   "outputs": [],
   "source": [
    "true_positives = df[(df['true_class_id'] == df['pred_class_id']) & (df['IOU'] > at_iou)]\n",
    "# all the prediction that do not have a valid gt annotation\n",
    "false_positives = df[df['gt_ann_id'] == -1]\n",
    "# all the gt annotations that do not have a prediction\n",
    "false_negatives = df[df['pred_ann_id'] == -1]"
   ]
  },
  {
   "cell_type": "code",
   "execution_count": 58,
   "metadata": {
    "ExecuteTime": {
     "end_time": "2020-10-28T10:25:15.678175Z",
     "start_time": "2020-10-28T10:25:15.652110Z"
    }
   },
   "outputs": [
    {
     "data": {
      "text/plain": [
       "0.9984779299847792"
      ]
     },
     "execution_count": 58,
     "metadata": {},
     "output_type": "execute_result"
    }
   ],
   "source": [
    "precision = len(true_positives) / (len(true_positives) + len(false_positives))\n",
    "precision"
   ]
  },
  {
   "cell_type": "code",
   "execution_count": 59,
   "metadata": {
    "ExecuteTime": {
     "end_time": "2020-10-28T10:25:16.177342Z",
     "start_time": "2020-10-28T10:25:16.150551Z"
    }
   },
   "outputs": [
    {
     "data": {
      "text/plain": [
       "1.0"
      ]
     },
     "execution_count": 59,
     "metadata": {},
     "output_type": "execute_result"
    }
   ],
   "source": [
    "recall = len(true_positives) / (len(true_positives) + len(false_negatives))\n",
    "recall"
   ]
  },
  {
   "cell_type": "code",
   "execution_count": 67,
   "metadata": {
    "ExecuteTime": {
     "end_time": "2020-10-28T10:37:25.604871Z",
     "start_time": "2020-10-28T10:37:25.564987Z"
    }
   },
   "outputs": [],
   "source": [
    "a = np.array([-1,0,1,2,3])"
   ]
  },
  {
   "cell_type": "code",
   "execution_count": 68,
   "metadata": {
    "ExecuteTime": {
     "end_time": "2020-10-28T10:37:32.984708Z",
     "start_time": "2020-10-28T10:37:32.957711Z"
    }
   },
   "outputs": [
    {
     "data": {
      "text/plain": [
       "array([1, 2, 3])"
      ]
     },
     "execution_count": 68,
     "metadata": {},
     "output_type": "execute_result"
    }
   ],
   "source": [
    "a[a >0]"
   ]
  },
  {
   "cell_type": "code",
   "execution_count": 69,
   "metadata": {
    "ExecuteTime": {
     "end_time": "2020-10-28T11:42:41.059943Z",
     "start_time": "2020-10-28T11:42:40.783953Z"
    }
   },
   "outputs": [
    {
     "data": {
      "text/plain": [
       "'batch6__2017010400696400__foto0004.jpg'"
      ]
     },
     "execution_count": 69,
     "metadata": {},
     "output_type": "execute_result"
    }
   ],
   "source": [
    "df['img_path'].loc[0]"
   ]
  },
  {
   "cell_type": "code",
   "execution_count": null,
   "metadata": {},
   "outputs": [],
   "source": []
  }
 ],
 "metadata": {
  "kernelspec": {
   "display_name": "Python 3",
   "language": "python",
   "name": "python3"
  },
  "language_info": {
   "codemirror_mode": {
    "name": "ipython",
    "version": 3
   },
   "file_extension": ".py",
   "mimetype": "text/x-python",
   "name": "python",
   "nbconvert_exporter": "python",
   "pygments_lexer": "ipython3",
   "version": "3.7.9"
  }
 },
 "nbformat": 4,
 "nbformat_minor": 4
}
