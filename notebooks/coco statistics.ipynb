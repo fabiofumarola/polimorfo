{
 "cells": [
  {
   "cell_type": "code",
   "execution_count": 1,
   "metadata": {},
   "outputs": [],
   "source": [
    "import json\n",
    "import pandas as pd\n",
    "import matplotlib.pyplot as plt"
   ]
  },
  {
   "cell_type": "code",
   "execution_count": 14,
   "metadata": {},
   "outputs": [],
   "source": [
    "with open('annotations/instances_train2017.json', 'r') as f:\n",
    "    data = json.load(f)"
   ]
  },
  {
   "cell_type": "code",
   "execution_count": 15,
   "metadata": {},
   "outputs": [
    {
     "data": {
      "text/plain": [
       "dict_keys(['info', 'licenses', 'images', 'annotations', 'categories'])"
      ]
     },
     "execution_count": 15,
     "metadata": {},
     "output_type": "execute_result"
    }
   ],
   "source": [
    "data.keys()"
   ]
  },
  {
   "cell_type": "code",
   "execution_count": 16,
   "metadata": {},
   "outputs": [
    {
     "data": {
      "text/plain": [
       "[{'supercategory': 'person', 'id': 1, 'name': 'person'},\n",
       " {'supercategory': 'vehicle', 'id': 2, 'name': 'bicycle'},\n",
       " {'supercategory': 'vehicle', 'id': 3, 'name': 'car'},\n",
       " {'supercategory': 'vehicle', 'id': 4, 'name': 'motorcycle'},\n",
       " {'supercategory': 'vehicle', 'id': 5, 'name': 'airplane'},\n",
       " {'supercategory': 'vehicle', 'id': 6, 'name': 'bus'},\n",
       " {'supercategory': 'vehicle', 'id': 7, 'name': 'train'},\n",
       " {'supercategory': 'vehicle', 'id': 8, 'name': 'truck'},\n",
       " {'supercategory': 'vehicle', 'id': 9, 'name': 'boat'},\n",
       " {'supercategory': 'outdoor', 'id': 10, 'name': 'traffic light'},\n",
       " {'supercategory': 'outdoor', 'id': 11, 'name': 'fire hydrant'},\n",
       " {'supercategory': 'outdoor', 'id': 13, 'name': 'stop sign'},\n",
       " {'supercategory': 'outdoor', 'id': 14, 'name': 'parking meter'},\n",
       " {'supercategory': 'outdoor', 'id': 15, 'name': 'bench'},\n",
       " {'supercategory': 'animal', 'id': 16, 'name': 'bird'},\n",
       " {'supercategory': 'animal', 'id': 17, 'name': 'cat'},\n",
       " {'supercategory': 'animal', 'id': 18, 'name': 'dog'},\n",
       " {'supercategory': 'animal', 'id': 19, 'name': 'horse'},\n",
       " {'supercategory': 'animal', 'id': 20, 'name': 'sheep'},\n",
       " {'supercategory': 'animal', 'id': 21, 'name': 'cow'},\n",
       " {'supercategory': 'animal', 'id': 22, 'name': 'elephant'},\n",
       " {'supercategory': 'animal', 'id': 23, 'name': 'bear'},\n",
       " {'supercategory': 'animal', 'id': 24, 'name': 'zebra'},\n",
       " {'supercategory': 'animal', 'id': 25, 'name': 'giraffe'},\n",
       " {'supercategory': 'accessory', 'id': 27, 'name': 'backpack'},\n",
       " {'supercategory': 'accessory', 'id': 28, 'name': 'umbrella'},\n",
       " {'supercategory': 'accessory', 'id': 31, 'name': 'handbag'},\n",
       " {'supercategory': 'accessory', 'id': 32, 'name': 'tie'},\n",
       " {'supercategory': 'accessory', 'id': 33, 'name': 'suitcase'},\n",
       " {'supercategory': 'sports', 'id': 34, 'name': 'frisbee'},\n",
       " {'supercategory': 'sports', 'id': 35, 'name': 'skis'},\n",
       " {'supercategory': 'sports', 'id': 36, 'name': 'snowboard'},\n",
       " {'supercategory': 'sports', 'id': 37, 'name': 'sports ball'},\n",
       " {'supercategory': 'sports', 'id': 38, 'name': 'kite'},\n",
       " {'supercategory': 'sports', 'id': 39, 'name': 'baseball bat'},\n",
       " {'supercategory': 'sports', 'id': 40, 'name': 'baseball glove'},\n",
       " {'supercategory': 'sports', 'id': 41, 'name': 'skateboard'},\n",
       " {'supercategory': 'sports', 'id': 42, 'name': 'surfboard'},\n",
       " {'supercategory': 'sports', 'id': 43, 'name': 'tennis racket'},\n",
       " {'supercategory': 'kitchen', 'id': 44, 'name': 'bottle'},\n",
       " {'supercategory': 'kitchen', 'id': 46, 'name': 'wine glass'},\n",
       " {'supercategory': 'kitchen', 'id': 47, 'name': 'cup'},\n",
       " {'supercategory': 'kitchen', 'id': 48, 'name': 'fork'},\n",
       " {'supercategory': 'kitchen', 'id': 49, 'name': 'knife'},\n",
       " {'supercategory': 'kitchen', 'id': 50, 'name': 'spoon'},\n",
       " {'supercategory': 'kitchen', 'id': 51, 'name': 'bowl'},\n",
       " {'supercategory': 'food', 'id': 52, 'name': 'banana'},\n",
       " {'supercategory': 'food', 'id': 53, 'name': 'apple'},\n",
       " {'supercategory': 'food', 'id': 54, 'name': 'sandwich'},\n",
       " {'supercategory': 'food', 'id': 55, 'name': 'orange'},\n",
       " {'supercategory': 'food', 'id': 56, 'name': 'broccoli'},\n",
       " {'supercategory': 'food', 'id': 57, 'name': 'carrot'},\n",
       " {'supercategory': 'food', 'id': 58, 'name': 'hot dog'},\n",
       " {'supercategory': 'food', 'id': 59, 'name': 'pizza'},\n",
       " {'supercategory': 'food', 'id': 60, 'name': 'donut'},\n",
       " {'supercategory': 'food', 'id': 61, 'name': 'cake'},\n",
       " {'supercategory': 'furniture', 'id': 62, 'name': 'chair'},\n",
       " {'supercategory': 'furniture', 'id': 63, 'name': 'couch'},\n",
       " {'supercategory': 'furniture', 'id': 64, 'name': 'potted plant'},\n",
       " {'supercategory': 'furniture', 'id': 65, 'name': 'bed'},\n",
       " {'supercategory': 'furniture', 'id': 67, 'name': 'dining table'},\n",
       " {'supercategory': 'furniture', 'id': 70, 'name': 'toilet'},\n",
       " {'supercategory': 'electronic', 'id': 72, 'name': 'tv'},\n",
       " {'supercategory': 'electronic', 'id': 73, 'name': 'laptop'},\n",
       " {'supercategory': 'electronic', 'id': 74, 'name': 'mouse'},\n",
       " {'supercategory': 'electronic', 'id': 75, 'name': 'remote'},\n",
       " {'supercategory': 'electronic', 'id': 76, 'name': 'keyboard'},\n",
       " {'supercategory': 'electronic', 'id': 77, 'name': 'cell phone'},\n",
       " {'supercategory': 'appliance', 'id': 78, 'name': 'microwave'},\n",
       " {'supercategory': 'appliance', 'id': 79, 'name': 'oven'},\n",
       " {'supercategory': 'appliance', 'id': 80, 'name': 'toaster'},\n",
       " {'supercategory': 'appliance', 'id': 81, 'name': 'sink'},\n",
       " {'supercategory': 'appliance', 'id': 82, 'name': 'refrigerator'},\n",
       " {'supercategory': 'indoor', 'id': 84, 'name': 'book'},\n",
       " {'supercategory': 'indoor', 'id': 85, 'name': 'clock'},\n",
       " {'supercategory': 'indoor', 'id': 86, 'name': 'vase'},\n",
       " {'supercategory': 'indoor', 'id': 87, 'name': 'scissors'},\n",
       " {'supercategory': 'indoor', 'id': 88, 'name': 'teddy bear'},\n",
       " {'supercategory': 'indoor', 'id': 89, 'name': 'hair drier'},\n",
       " {'supercategory': 'indoor', 'id': 90, 'name': 'toothbrush'}]"
      ]
     },
     "execution_count": 16,
     "metadata": {},
     "output_type": "execute_result"
    }
   ],
   "source": [
    "data['categories']"
   ]
  },
  {
   "cell_type": "code",
   "execution_count": 25,
   "metadata": {},
   "outputs": [
    {
     "data": {
      "text/plain": [
       "{'license': 3,\n",
       " 'file_name': '000000184613.jpg',\n",
       " 'coco_url': 'http://images.cocodataset.org/train2017/000000184613.jpg',\n",
       " 'height': 336,\n",
       " 'width': 500,\n",
       " 'date_captured': '2013-11-14 12:36:29',\n",
       " 'flickr_url': 'http://farm3.staticflickr.com/2169/2118578392_1193aa04a0_z.jpg',\n",
       " 'id': 184613}"
      ]
     },
     "execution_count": 25,
     "metadata": {},
     "output_type": "execute_result"
    }
   ],
   "source": [
    "data['images'][2]"
   ]
  },
  {
   "cell_type": "code",
   "execution_count": 24,
   "metadata": {
    "scrolled": false
   },
   "outputs": [
    {
     "data": {
      "text/plain": [
       "[{'segmentation': [[426.91,\n",
       "    58.24,\n",
       "    434.49,\n",
       "    77.74,\n",
       "    467.0,\n",
       "    80.99,\n",
       "    485.42,\n",
       "    86.41,\n",
       "    493.0,\n",
       "    129.75,\n",
       "    521.17,\n",
       "    128.67,\n",
       "    532.01,\n",
       "    144.92,\n",
       "    545.01,\n",
       "    164.42,\n",
       "    552.6,\n",
       "    170.93,\n",
       "    588.35,\n",
       "    178.51,\n",
       "    629.53,\n",
       "    165.51,\n",
       "    629.53,\n",
       "    177.43,\n",
       "    578.6,\n",
       "    214.27,\n",
       "    558.01,\n",
       "    241.35,\n",
       "    526.59,\n",
       "    329.12,\n",
       "    512.51,\n",
       "    370.29,\n",
       "    502.75,\n",
       "    415.8,\n",
       "    418.24,\n",
       "    409.3,\n",
       "    399.82,\n",
       "    414.72,\n",
       "    388.98,\n",
       "    420.14,\n",
       "    382.48,\n",
       "    424.47,\n",
       "    391.15,\n",
       "    430.97,\n",
       "    414.99,\n",
       "    425.55,\n",
       "    447.49,\n",
       "    427.72,\n",
       "    449.66,\n",
       "    435.3,\n",
       "    431.24,\n",
       "    438.56,\n",
       "    421.49,\n",
       "    452.64,\n",
       "    422.57,\n",
       "    456.98,\n",
       "    432.33,\n",
       "    464.56,\n",
       "    439.91,\n",
       "    458.06,\n",
       "    481.08,\n",
       "    465.64,\n",
       "    502.75,\n",
       "    464.56,\n",
       "    507.09,\n",
       "    473.23,\n",
       "    639.28,\n",
       "    474.31,\n",
       "    639.28,\n",
       "    1.9,\n",
       "    431.24,\n",
       "    0.0]],\n",
       "  'area': 63325.421899999994,\n",
       "  'iscrowd': 0,\n",
       "  'image_id': 522418,\n",
       "  'bbox': [382.48, 0.0, 256.8, 474.31],\n",
       "  'category_id': 1,\n",
       "  'id': 455475},\n",
       " {'segmentation': [[416.41,\n",
       "    449.28,\n",
       "    253.36,\n",
       "    422.87,\n",
       "    234.06,\n",
       "    412.2,\n",
       "    277.23,\n",
       "    406.61,\n",
       "    343.77,\n",
       "    411.69,\n",
       "    379.84,\n",
       "    414.23,\n",
       "    384.41,\n",
       "    424.9,\n",
       "    397.11,\n",
       "    427.95,\n",
       "    410.31,\n",
       "    427.95,\n",
       "    445.36,\n",
       "    429.98,\n",
       "    454.0,\n",
       "    438.61,\n",
       "    431.65,\n",
       "    438.61,\n",
       "    423.01,\n",
       "    449.28]],\n",
       "  'area': 4200.516899999997,\n",
       "  'iscrowd': 0,\n",
       "  'image_id': 522418,\n",
       "  'bbox': [234.06, 406.61, 219.94, 42.67],\n",
       "  'category_id': 49,\n",
       "  'id': 692513},\n",
       " {'segmentation': [[71.19,\n",
       "    327.91,\n",
       "    5.39,\n",
       "    371.06,\n",
       "    0.0,\n",
       "    371.06,\n",
       "    0.0,\n",
       "    473.53,\n",
       "    365.66,\n",
       "    473.53,\n",
       "    379.69,\n",
       "    442.25,\n",
       "    354.88,\n",
       "    431.46,\n",
       "    247.01,\n",
       "    417.44,\n",
       "    232.99,\n",
       "    410.97,\n",
       "    277.21,\n",
       "    406.65,\n",
       "    326.83,\n",
       "    408.81,\n",
       "    379.69,\n",
       "    416.36,\n",
       "    386.16,\n",
       "    418.52,\n",
       "    393.71,\n",
       "    413.12,\n",
       "    406.65,\n",
       "    379.69,\n",
       "    406.65,\n",
       "    366.74,\n",
       "    399.1,\n",
       "    339.78,\n",
       "    286.92,\n",
       "    323.6,\n",
       "    179.06,\n",
       "    318.2,\n",
       "    98.16,\n",
       "    316.04]],\n",
       "  'area': 54409.19939999999,\n",
       "  'iscrowd': 0,\n",
       "  'image_id': 522418,\n",
       "  'bbox': [0.0, 316.04, 406.65, 157.49],\n",
       "  'category_id': 61,\n",
       "  'id': 1085508},\n",
       " {'segmentation': [[347.84,\n",
       "    225.66,\n",
       "    311.69,\n",
       "    249.35,\n",
       "    305.45,\n",
       "    205.71,\n",
       "    361.56,\n",
       "    172.05,\n",
       "    362.81,\n",
       "    179.53]],\n",
       "  'area': 2220.645799999999,\n",
       "  'iscrowd': 0,\n",
       "  'image_id': 522418,\n",
       "  'bbox': [305.45, 172.05, 57.36, 77.3],\n",
       "  'category_id': 81,\n",
       "  'id': 1982455}]"
      ]
     },
     "execution_count": 24,
     "metadata": {},
     "output_type": "execute_result"
    }
   ],
   "source": [
    "[d for d in data['annotations'] if d['image_id'] == 522418]"
   ]
  },
  {
   "cell_type": "code",
   "execution_count": 4,
   "metadata": {},
   "outputs": [
    {
     "data": {
      "text/html": [
       "<div>\n",
       "<style scoped>\n",
       "    .dataframe tbody tr th:only-of-type {\n",
       "        vertical-align: middle;\n",
       "    }\n",
       "\n",
       "    .dataframe tbody tr th {\n",
       "        vertical-align: top;\n",
       "    }\n",
       "\n",
       "    .dataframe thead th {\n",
       "        text-align: right;\n",
       "    }\n",
       "</style>\n",
       "<table border=\"1\" class=\"dataframe\">\n",
       "  <thead>\n",
       "    <tr style=\"text-align: right;\">\n",
       "      <th></th>\n",
       "      <th>id</th>\n",
       "      <th>name</th>\n",
       "    </tr>\n",
       "  </thead>\n",
       "  <tbody>\n",
       "    <tr>\n",
       "      <th>0</th>\n",
       "      <td>1</td>\n",
       "      <td>person</td>\n",
       "    </tr>\n",
       "    <tr>\n",
       "      <th>1</th>\n",
       "      <td>2</td>\n",
       "      <td>bicycle</td>\n",
       "    </tr>\n",
       "    <tr>\n",
       "      <th>2</th>\n",
       "      <td>3</td>\n",
       "      <td>car</td>\n",
       "    </tr>\n",
       "    <tr>\n",
       "      <th>3</th>\n",
       "      <td>4</td>\n",
       "      <td>motorcycle</td>\n",
       "    </tr>\n",
       "    <tr>\n",
       "      <th>4</th>\n",
       "      <td>5</td>\n",
       "      <td>airplane</td>\n",
       "    </tr>\n",
       "  </tbody>\n",
       "</table>\n",
       "</div>"
      ],
      "text/plain": [
       "   id        name\n",
       "0   1      person\n",
       "1   2     bicycle\n",
       "2   3         car\n",
       "3   4  motorcycle\n",
       "4   5    airplane"
      ]
     },
     "execution_count": 4,
     "metadata": {},
     "output_type": "execute_result"
    }
   ],
   "source": [
    "category_df = pd.DataFrame(data['categories'])[['id', 'name']]\n",
    "category_df.head()"
   ]
  },
  {
   "cell_type": "code",
   "execution_count": 24,
   "metadata": {},
   "outputs": [
    {
     "data": {
      "text/plain": [
       "117266"
      ]
     },
     "execution_count": 24,
     "metadata": {},
     "output_type": "execute_result"
    }
   ],
   "source": [
    "idxs = set([value['image_id'] for value in data['annotations']])\n",
    "len(idxs)"
   ]
  },
  {
   "cell_type": "code",
   "execution_count": 5,
   "metadata": {},
   "outputs": [
    {
     "data": {
      "text/html": [
       "<div>\n",
       "<style scoped>\n",
       "    .dataframe tbody tr th:only-of-type {\n",
       "        vertical-align: middle;\n",
       "    }\n",
       "\n",
       "    .dataframe tbody tr th {\n",
       "        vertical-align: top;\n",
       "    }\n",
       "\n",
       "    .dataframe thead th {\n",
       "        text-align: right;\n",
       "    }\n",
       "</style>\n",
       "<table border=\"1\" class=\"dataframe\">\n",
       "  <thead>\n",
       "    <tr style=\"text-align: right;\">\n",
       "      <th></th>\n",
       "      <th>id</th>\n",
       "    </tr>\n",
       "  </thead>\n",
       "  <tbody>\n",
       "    <tr>\n",
       "      <th>0</th>\n",
       "      <td>58</td>\n",
       "    </tr>\n",
       "    <tr>\n",
       "      <th>1</th>\n",
       "      <td>58</td>\n",
       "    </tr>\n",
       "    <tr>\n",
       "      <th>2</th>\n",
       "      <td>58</td>\n",
       "    </tr>\n",
       "    <tr>\n",
       "      <th>3</th>\n",
       "      <td>58</td>\n",
       "    </tr>\n",
       "    <tr>\n",
       "      <th>4</th>\n",
       "      <td>58</td>\n",
       "    </tr>\n",
       "  </tbody>\n",
       "</table>\n",
       "</div>"
      ],
      "text/plain": [
       "   id\n",
       "0  58\n",
       "1  58\n",
       "2  58\n",
       "3  58\n",
       "4  58"
      ]
     },
     "execution_count": 5,
     "metadata": {},
     "output_type": "execute_result"
    }
   ],
   "source": [
    "images_id = [value['category_id'] for value in data['annotations']]\n",
    "df = pd.DataFrame(data=images_id, columns=['id'])\n",
    "df.head()"
   ]
  },
  {
   "cell_type": "code",
   "execution_count": 15,
   "metadata": {},
   "outputs": [
    {
     "data": {
      "text/plain": [
       "(860001, 1)"
      ]
     },
     "execution_count": 15,
     "metadata": {},
     "output_type": "execute_result"
    }
   ],
   "source": [
    "df.shape"
   ]
  },
  {
   "cell_type": "code",
   "execution_count": 6,
   "metadata": {},
   "outputs": [
    {
     "data": {
      "text/html": [
       "<div>\n",
       "<style scoped>\n",
       "    .dataframe tbody tr th:only-of-type {\n",
       "        vertical-align: middle;\n",
       "    }\n",
       "\n",
       "    .dataframe tbody tr th {\n",
       "        vertical-align: top;\n",
       "    }\n",
       "\n",
       "    .dataframe thead th {\n",
       "        text-align: right;\n",
       "    }\n",
       "</style>\n",
       "<table border=\"1\" class=\"dataframe\">\n",
       "  <thead>\n",
       "    <tr style=\"text-align: right;\">\n",
       "      <th></th>\n",
       "      <th>id</th>\n",
       "      <th>name</th>\n",
       "    </tr>\n",
       "  </thead>\n",
       "  <tbody>\n",
       "    <tr>\n",
       "      <th>0</th>\n",
       "      <td>1</td>\n",
       "      <td>person</td>\n",
       "    </tr>\n",
       "    <tr>\n",
       "      <th>1</th>\n",
       "      <td>1</td>\n",
       "      <td>person</td>\n",
       "    </tr>\n",
       "    <tr>\n",
       "      <th>2</th>\n",
       "      <td>1</td>\n",
       "      <td>person</td>\n",
       "    </tr>\n",
       "    <tr>\n",
       "      <th>3</th>\n",
       "      <td>1</td>\n",
       "      <td>person</td>\n",
       "    </tr>\n",
       "    <tr>\n",
       "      <th>4</th>\n",
       "      <td>1</td>\n",
       "      <td>person</td>\n",
       "    </tr>\n",
       "  </tbody>\n",
       "</table>\n",
       "</div>"
      ],
      "text/plain": [
       "   id    name\n",
       "0   1  person\n",
       "1   1  person\n",
       "2   1  person\n",
       "3   1  person\n",
       "4   1  person"
      ]
     },
     "execution_count": 6,
     "metadata": {},
     "output_type": "execute_result"
    }
   ],
   "source": [
    "merged_df = pd.merge(category_df, df, on='id')\n",
    "merged_df.head()"
   ]
  },
  {
   "cell_type": "code",
   "execution_count": 7,
   "metadata": {},
   "outputs": [],
   "source": [
    "images_per_label = merged_df.groupby('name').size().sort_values()"
   ]
  },
  {
   "cell_type": "code",
   "execution_count": 8,
   "metadata": {},
   "outputs": [],
   "source": [
    "plt.style.use('fivethirtyeight')"
   ]
  },
  {
   "cell_type": "code",
   "execution_count": 14,
   "metadata": {},
   "outputs": [
    {
     "data": {
      "text/plain": [
       "<matplotlib.axes._subplots.AxesSubplot at 0x133599e10>"
      ]
     },
     "execution_count": 14,
     "metadata": {},
     "output_type": "execute_result"
    },
    {
     "data": {
      "image/png": "[encoded data removed]",
      "text/plain": [
       "<Figure size 2160x576 with 1 Axes>"
      ]
     },
     "metadata": {},
     "output_type": "display_data"
    }
   ],
   "source": [
    "fig, ax = plt.subplots(1,1, figsize=(30,8))\n",
    "images_per_label.plot(kind='bar', ax=ax)"
   ]
  },
  {
   "cell_type": "code",
   "execution_count": 11,
   "metadata": {},
   "outputs": [
    {
     "data": {
      "text/plain": [
       "''"
      ]
     },
     "execution_count": 11,
     "metadata": {},
     "output_type": "execute_result"
    }
   ],
   "source": [
    "ax.get_ylabel()"
   ]
  },
  {
   "cell_type": "code",
   "execution_count": 25,
   "metadata": {},
   "outputs": [
    {
     "data": {
      "text/plain": [
       "name\n",
       "hair drier           198\n",
       "toaster              225\n",
       "parking meter       1285\n",
       "bear                1294\n",
       "scissors            1481\n",
       "microwave           1673\n",
       "fire hydrant        1865\n",
       "toothbrush          1954\n",
       "stop sign           1983\n",
       "mouse               2262\n",
       "refrigerator        2637\n",
       "frisbee             2682\n",
       "snowboard           2685\n",
       "keyboard            2855\n",
       "hot dog             2918\n",
       "baseball bat        3276\n",
       "oven                3334\n",
       "baseball glove      3747\n",
       "toilet              4157\n",
       "bed                 4192\n",
       "sandwich            4373\n",
       "train               4571\n",
       "cat                 4768\n",
       "teddy bear          4793\n",
       "tennis racket       4812\n",
       "laptop              4970\n",
       "giraffe             5131\n",
       "airplane            5135\n",
       "zebra               5303\n",
       "fork                5479\n",
       "                   ...  \n",
       "vase                6613\n",
       "skis                6646\n",
       "bicycle             7113\n",
       "donut               7179\n",
       "broccoli            7308\n",
       "knife               7770\n",
       "carrot              7852\n",
       "wine glass          7913\n",
       "cow                 8147\n",
       "potted plant        8652\n",
       "backpack            8720\n",
       "motorcycle          8725\n",
       "kite                9076\n",
       "banana              9458\n",
       "sheep               9509\n",
       "bench               9838\n",
       "truck               9973\n",
       "boat               10759\n",
       "bird               10806\n",
       "umbrella           11431\n",
       "handbag            12354\n",
       "traffic light      12884\n",
       "bowl               14358\n",
       "dining table       15714\n",
       "cup                20650\n",
       "bottle             24342\n",
       "book               24715\n",
       "chair              38491\n",
       "car                43867\n",
       "person            262465\n",
       "Length: 80, dtype: int64"
      ]
     },
     "execution_count": 25,
     "metadata": {},
     "output_type": "execute_result"
    }
   ],
   "source": [
    "images_per_label"
   ]
  },
  {
   "cell_type": "code",
   "execution_count": null,
   "metadata": {},
   "outputs": [],
   "source": []
  }
 ],
 "metadata": {
  "kernelspec": {
   "display_name": "Python 3",
   "language": "python",
   "name": "python3"
  },
  "language_info": {
   "codemirror_mode": {
    "name": "ipython",
    "version": 3
   },
   "file_extension": ".py",
   "mimetype": "text/x-python",
   "name": "python",
   "nbconvert_exporter": "python",
   "pygments_lexer": "ipython3",
   "version": "3.7.6"
  }
 },
 "nbformat": 4,
 "nbformat_minor": 2
}
